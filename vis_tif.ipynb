{
 "cells": [
  {
   "cell_type": "code",
   "execution_count": null,
   "metadata": {},
   "outputs": [],
   "source": [
    "!pip install tifffile"
   ]
  },
  {
   "cell_type": "code",
   "execution_count": null,
   "metadata": {},
   "outputs": [],
   "source": [
    "!pip install matplotlib"
   ]
  },
  {
   "cell_type": "code",
   "execution_count": null,
   "metadata": {},
   "outputs": [],
   "source": [
    "import matplotlib.pyplot as plt\n",
    "import numpy as np\n",
    "import tifffile as tiff"
   ]
  },
  {
   "cell_type": "code",
   "execution_count": null,
   "metadata": {},
   "outputs": [],
   "source": [
    "# Open the .tif file\n",
    "tif_image = tiff.imread(\n",
    "    \"data/train//chips/chip_20200801_L30_T38PMC_2020181T072548_10_6.tif\"\n",
    ")\n",
    "# tif_image = tiff.imread('data/train//chips/chip_20201101_S30_T38NMN_2020273T071709_9_7.tif')\n",
    "\n",
    "print(type(tif_image))"
   ]
  },
  {
   "cell_type": "code",
   "execution_count": null,
   "metadata": {},
   "outputs": [],
   "source": [
    "# Display the image\n",
    "for i in range(0, 15, 3):\n",
    "    plt.imshow(tif_image[:, :, i : i + 3])\n",
    "    plt.axis(\"off\")  # Turn off axis numbers and ticks\n",
    "    plt.show()"
   ]
  },
  {
   "cell_type": "code",
   "execution_count": null,
   "metadata": {},
   "outputs": [],
   "source": [
    "def visualise_multispectral_image_as_rgb(ms_image):\n",
    "    \"\"\"\n",
    "    We will project the first 6 channels to Red, the second 6 to Green, the final 6 to Blue\n",
    "    \"\"\"\n",
    "    weights_r = np.ones(6) / 6\n",
    "    weights_g = np.ones(6) / 6\n",
    "    weights_b = np.ones(6) / 6\n",
    "\n",
    "    # Compute the linear combination for each channel\n",
    "    r_channel = np.tensordot(ms_image[:, :, :6], weights_r, axes=([2], [0]))\n",
    "    g_channel = np.tensordot(ms_image[:, :, 6:12], weights_g, axes=([2], [0]))\n",
    "    b_channel = np.tensordot(ms_image[:, :, 12:], weights_b, axes=([2], [0]))\n",
    "\n",
    "    # Stack the channels to form an RGB image\n",
    "    rgb_img = np.stack((r_channel, g_channel, b_channel), axis=-1)\n",
    "\n",
    "    # Now we have a representation of our MS image projected into RGB\n",
    "\n",
    "    plt.imshow(rgb_img)\n",
    "    plt.axis(\"off\")  # Turn off axis numbers and ticks\n",
    "    plt.show()"
   ]
  },
  {
   "cell_type": "code",
   "execution_count": null,
   "metadata": {},
   "outputs": [],
   "source": [
    "sample_multispectral_images = [\n",
    "    \"chip_20191201_L30_T33QUA_2019302T092914_13_11.tif\",\n",
    "    \"chip_20201101_S30_T38NMN_2020273T071709_9_7.tif\",\n",
    "    \"chip_20200801_L30_T38PMC_2020181T072548_10_6.tif\",\n",
    "]\n",
    "\n",
    "for sample_ms_image in sample_multispectral_images:\n",
    "    tif_image = tiff.imread(f\"data/train//chips/{sample_ms_image}\")\n",
    "    visualise_multispectral_image_as_rgb(tif_image)"
   ]
  }
 ],
 "metadata": {
  "kernelspec": {
   "display_name": "retmat-merge",
   "language": "python",
   "name": "python3"
  },
  "language_info": {
   "codemirror_mode": {
    "name": "ipython",
    "version": 3
   },
   "file_extension": ".py",
   "mimetype": "text/x-python",
   "name": "python",
   "nbconvert_exporter": "python",
   "pygments_lexer": "ipython3",
   "version": "3.11.9"
  }
 },
 "nbformat": 4,
 "nbformat_minor": 2
}
